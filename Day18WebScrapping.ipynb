{
  "nbformat": 4,
  "nbformat_minor": 0,
  "metadata": {
    "colab": {
      "provenance": [],
      "authorship_tag": "ABX9TyNC12mSlTWVNdU7/0vg3Rxx",
      "include_colab_link": true
    },
    "kernelspec": {
      "name": "python3",
      "display_name": "Python 3"
    },
    "language_info": {
      "name": "python"
    }
  },
  "cells": [
    {
      "cell_type": "markdown",
      "metadata": {
        "id": "view-in-github",
        "colab_type": "text"
      },
      "source": [
        "<a href=\"https://colab.research.google.com/github/theakash07/100_Days_Machine_Learning/blob/main/Day18WebScrapping.ipynb\" target=\"_parent\"><img src=\"https://colab.research.google.com/assets/colab-badge.svg\" alt=\"Open In Colab\"/></a>"
      ]
    },
    {
      "cell_type": "code",
      "execution_count": 2,
      "metadata": {
        "id": "gDwLkxSAYNs2"
      },
      "outputs": [],
      "source": [
        "import pandas as pd\n",
        "import requests\n",
        "from bs4 import BeautifulSoup"
      ]
    },
    {
      "cell_type": "markdown",
      "source": [
        "This code generates error because few websites don't allow google or someone to crawl his website so they insert a robo.txt file which prevent such actiions.\n",
        "To escape this you must show your request as a it came from browser."
      ],
      "metadata": {
        "id": "R_tfKfvZZcKf"
      }
    },
    {
      "cell_type": "code",
      "source": [
        "requests.get('https://www.ambitionbox.com/list-of-companies?page=1').text"
      ],
      "metadata": {
        "colab": {
          "base_uri": "https://localhost:8080/",
          "height": 70
        },
        "id": "UysZjUduY2I5",
        "outputId": "6f47ce96-9342-4bcb-cbb1-f4f28f5409f0"
      },
      "execution_count": 5,
      "outputs": [
        {
          "output_type": "execute_result",
          "data": {
            "text/plain": [
              "'<HTML><HEAD>\\n<TITLE>Access Denied</TITLE>\\n</HEAD><BODY>\\n<H1>Access Denied</H1>\\n \\nYou don\\'t have permission to access \"http&#58;&#47;&#47;www&#46;ambitionbox&#46;com&#47;list&#45;of&#45;companies&#63;\" on this server.<P>\\nReference&#32;&#35;18&#46;181c2e17&#46;1714386486&#46;201b30ec\\n<P>https&#58;&#47;&#47;errors&#46;edgesuite&#46;net&#47;18&#46;181c2e17&#46;1714386486&#46;201b30ec</P>\\n</BODY>\\n</HTML>\\n'"
            ],
            "application/vnd.google.colaboratory.intrinsic+json": {
              "type": "string"
            }
          },
          "metadata": {},
          "execution_count": 5
        }
      ]
    },
    {
      "cell_type": "code",
      "source": [],
      "metadata": {
        "id": "8zNOC1XyZxIK"
      },
      "execution_count": null,
      "outputs": []
    }
  ]
}